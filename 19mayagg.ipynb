{
 "cells": [
  {
   "cell_type": "markdown",
   "id": "b6fde397",
   "metadata": {},
   "source": [
    "***GENERATED CODE FOR 19mayagg PIPELINE.***"
   ]
  },
  {
   "cell_type": "markdown",
   "id": "e7edad17",
   "metadata": {},
   "source": [
    "***DON'T EDIT THIS CODE.***"
   ]
  },
  {
   "cell_type": "markdown",
   "id": "d13f1660",
   "metadata": {},
   "source": [
    "***CONNECTOR FUNCTIONS TO READ DATA.***"
   ]
  },
  {
   "cell_type": "code",
   "execution_count": null,
   "id": "5fd23dc7",
   "metadata": {},
   "outputs": [],
   "source": [
    "import os\n",
    "import datetime\n",
    "import logging\n",
    "import warnings\n",
    "warnings.filterwarnings('ignore')\n",
    "logging.basicConfig(format='%(levelname)s:%(message)s', level=logging.INFO)\n",
    "\n",
    "\n",
    "class HDFSConnector:\n",
    "\n",
    "    def fetch(spark, config):\n",
    "        ################### INPUT HADOOP HOST PORT TO CONNECT WITH ###############################\n",
    "        hdfs_server = str(os.environ['HDFS_SERVER'])\n",
    "        hdfs_port = int(os.environ['HDFS_PORT'])\n",
    "        df = spark.read.options(header='true', inferschema='true').csv(\n",
    "            f\"hdfs://{hdfs_server}:{hdfs_port}{eval(config)['url']}\", header='true')\n",
    "        display(df.limit(2).toPandas())\n",
    "        return df\n",
    "\n",
    "    def put(df, spark, config):\n",
    "        return df.write.format('csv').options(header='true' if eval(config)[\"is_header\"] == \"Use Header Line\" else 'false',\n",
    "                                              delimiter=eval(config)[\"delimiter\"]).save((\"%s %s\") % (datetime.datetime.now().strftime(\"%Y-%m-%d %H.%M.%S\")+\"_\", eval(config)['url']))\n"
   ]
  },
  {
   "cell_type": "markdown",
   "id": "a2814399",
   "metadata": {},
   "source": [
    "***OPERATION FUNCTIONS***"
   ]
  },
  {
   "cell_type": "code",
   "execution_count": null,
   "id": "de74ca05",
   "metadata": {},
   "outputs": [],
   "source": [
    "class AggregationOperation:\n",
    "\n",
    "    def run(inStages, inStagesData, stageId, sparkSession, stageAttribs):\n",
    "\n",
    "        aggregations = \"\"\n",
    "\n",
    "        for aggregate in stageAttribs[\"aggregate_on\"]:\n",
    "            if aggregate['method_type'] == \"count\":\n",
    "                if aggregate['method'] == \"all\":\n",
    "                    aggregations += \"%s(%s) as %s, \" % (\n",
    "                        aggregate['method'], aggregate['input_field'], aggregate['aggregate_field'])\n",
    "                elif aggregate['method'] == \"empty\":\n",
    "                    aggregations += \"%s(case %s when null then 1 else null end) as %s, \" % (\n",
    "                        aggregate['method'], aggregate['input_field'], aggregate['aggregate_field'])\n",
    "                elif aggregate['method'] == \"non empty\":\n",
    "                    aggregations += \"%s(case %s when null then null else 1 end) as %s, \" % (\n",
    "                        aggregate['method'], aggregate['input_field'], aggregate['aggregate_field'])\n",
    "                elif aggregate['method'] == \"custom\":\n",
    "                    aggregations += \"%s(case %s when %s then 1 else null end) as %s, \" % (\n",
    "                        aggregate['method'], aggregate['input_field'], aggregate['count_custom_value'], aggregate['aggregate_field'])\n",
    "                elif aggregate['method'] == \"unique\":\n",
    "                    aggregations += \"%s(DISTINCT(%s)) as %s, \" % (\n",
    "                        aggregate['method'], aggregate['input_field'], aggregate['aggregate_field'])\n",
    "\n",
    "            else:\n",
    "                aggregations += \"%s(%s) as %s, \" % (\n",
    "                    aggregate['method'], aggregate['input_field'], aggregate['aggregate_field'])\n",
    "\n",
    "        group_by = \",\".join(stageAttribs[\"group_by\"])\n",
    "\n",
    "        inStagesData[inStages[0]].createOrReplaceTempView(\"view%s\" % (stageId))\n",
    "        query = \"SELECT %s %s FROM %s GROUP BY %s\" % (\n",
    "            aggregations, group_by, \"view%s\" % (stageId), group_by)\n",
    "        return sparkSession.sql(query)\n"
   ]
  },
  {
   "cell_type": "markdown",
   "id": "00961d30",
   "metadata": {},
   "source": [
    "***CONNECTOR FUNCTIONS TO WRITE DATA.***"
   ]
  },
  {
   "cell_type": "code",
   "execution_count": null,
   "id": "2c486df4",
   "metadata": {},
   "outputs": [],
   "source": [
    "import datetime\n",
    "import requests\n",
    "import datetime\n",
    "import logging\n",
    "import warnings\n",
    "warnings.filterwarnings('ignore')\n",
    "logging.basicConfig(format='%(levelname)s:%(message)s', level=logging.INFO)\n",
    "\n",
    "\n",
    "class NumtraConnector:\n",
    "\n",
    "    def put(inStages, inStagesData, stageId, spark, config):\n",
    "        path = eval(config)['server_url']\n",
    "        baseType = eval(config)['baseType']\n",
    "        results_url = eval(config)['results_url']\n",
    "        server = eval(config)['server']\n",
    "        originalfile = eval(config)['orignalKey']\n",
    "        eval(config)['pathOnly']\n",
    "        filename = eval(config)['filename']\n",
    "        eval(config)['ser']\n",
    "        eval(config)['user']\n",
    "        eval(config)['password']\n",
    "        eval(config)['authSource']\n",
    "        eval(config)['user_id']\n",
    "        eval(config)['parent_id']\n",
    "        eval(config)['project_id']\n",
    "        time = str(int(datetime.datetime.now().timestamp()))\n",
    "\n",
    "        inStagesData[inStages[0]]\n",
    "\n",
    "        print(path)\n",
    "        print(baseType)\n",
    "        print(results_url)\n",
    "        print(server)\n",
    "        print(originalfile)\n",
    "        print(filename)\n",
    "\n",
    "        args = {\n",
    "            'url': path,\n",
    "            'baseType': baseType,\n",
    "            'originalfile': originalfile,\n",
    "            'filename': time + filename\n",
    "        }\n",
    "\n",
    "        response = requests.post(results_url, args)\n",
    "        return response\n"
   ]
  },
  {
   "cell_type": "markdown",
   "id": "aeb06d16",
   "metadata": {},
   "source": [
    "***READING DATAFRAME***"
   ]
  },
  {
   "cell_type": "code",
   "execution_count": null,
   "id": "8a89582a",
   "metadata": {},
   "outputs": [],
   "source": [
    "############## CREATE SPARK SESSION ############################ ENTER YOUR SPARK MASTER IP AND PORT TO CONNECT TO SERVER ################\n",
    "from pyspark.sql import SparkSession\n",
    "spark = SparkSession.builder.master('local[1]').getOrCreate()\n",
    "#%run 19mayaggHooks.ipynb\n",
    "try:\n",
    "\t#sourcePreExecutionHook()\n",
    "\n",
    "\theartfailuretrainrima = HDFSConnector.fetch(spark, \"{'url': '/FileStore/platform/testdata/1714042041565_HeartFailureTrain.csv', 'filename': 'HeartFailureTrain.csv', 'delimiter': ',', 'file_type': 'Delimeted', 'dbfs_token': '', 'dbfs_domain': '', 'FilePath': '/OperatorsTest/HeartFailureTrain.csv', 'viewFileName': 'HeartFailureTrain.csv', 'is_header': 'Use Header Line', 'baseType': 'hdfs', 'server_url': '/nexusMax/NexusMaxPlatform/uploads/platform/', 'results_url': 'http://dnm.bfirst.ai:44040/api/read/hdfs'}\")\n",
    "\n",
    "except Exception as ex: \n",
    "\tlogging.error(ex)\n",
    "#spark.stop()\n"
   ]
  },
  {
   "cell_type": "markdown",
   "id": "9a6be973",
   "metadata": {},
   "source": [
    "***PERFORMING OPERATIONS***"
   ]
  },
  {
   "cell_type": "code",
   "execution_count": null,
   "id": "4a851e3a",
   "metadata": {},
   "outputs": [],
   "source": [
    "#%run 19mayaggHooks.ipynb\n",
    "try:\n",
    "\taggregation = AggregationOperation.run([\"6649f725dc9eeaddb10dd9fb\"],{\"6649f725dc9eeaddb10dd9fb\": heartfailuretrainrima}, \"6649f729dc9eeaddb10dd9ff\", spark, \"{'dataType': 'real', 'dataTypes': ['real', 'numeric'], 'SelectedColumns': ['age'], 'functionData': {'functionName': 'aggregate', 'applyOn': [{'columnName': 'age', 'type': 'real', 'disable': False}], 'functionsData': [{'aggregateFunction': 'sum', 'aggregateOn': [{'columnName': 'age', 'type': 'real', 'disable': False}], 'groupOn': [{'columnName': 'anaemia', 'type': 'numeric', 'disable': True}]}]}, 'allColumns': [{'columnName': 'age', 'type': 'real', 'disable': False}, {'columnName': 'anaemia', 'type': 'numeric', 'disable': True}, {'columnName': 'creatinine_phosphokinase', 'type': 'numeric', 'disable': True}, {'columnName': 'diabetes', 'type': 'numeric', 'disable': True}, {'columnName': 'ejection_fraction', 'type': 'numeric', 'disable': True}, {'columnName': 'high_blood_pressure', 'type': 'numeric', 'disable': True}, {'columnName': 'platelets', 'type': 'real', 'disable': False}, {'columnName': 'serum_creatinine', 'type': 'real', 'disable': False}, {'columnName': 'serum_sodium', 'type': 'numeric', 'disable': True}, {'columnName': 'sex', 'type': 'numeric', 'disable': True}, {'columnName': 'smoking', 'type': 'numeric', 'disable': True}, {'columnName': 'time', 'type': 'numeric', 'disable': True}, {'columnName': 'DEATH_EVENT', 'type': 'numeric', 'disable': True}], 'url': '/FileStore/platform/testdata/1714042041565_HeartFailureTrain.csv', 'SelectedColumnsData': [{'columnName': 'age', 'type': 'real', 'disable': False}], 'groupOn': ['anaemia'], 'server_url': '/nexusMax/NexusMaxPlatform/uploads/platform/'}\")\n",
    "\n",
    "except Exception as ex: \n",
    "\tlogging.error(ex)\n"
   ]
  },
  {
   "cell_type": "markdown",
   "id": "e9eba4ee",
   "metadata": {},
   "source": [
    "***WRITING DATAFRAME***"
   ]
  },
  {
   "cell_type": "code",
   "execution_count": null,
   "id": "508e785c",
   "metadata": {},
   "outputs": [],
   "source": [
    "#%run 19mayaggHooks.ipynb\n",
    "try:\n",
    "\t#sinkPreExecutionHook()\n",
    "\n",
    "\toperatorstestoutput = NumtraConnector.fetch(spark, \"{'samplefile': '/FileStore/platform/sampleData/6649f725dc9eeaddb10dd9fb/part-00000-cde98938-5ebd-40c6-aeb1-1c42d8f5f7c8-c000.csv', 'samplecount': 299, 'originalcount': 299, 'orignalKey': '/FileStore/platform/testdata/1714042041565_HeartFailureTrain.csv', 'pathOnly': '/OperatorsTest', 'project_id': '66279e60b6d893f4c9a9ec43', 'parent_id': '66279e60b6d893f4c9a9ec43', 'original_schema': [{'checked': True, 'inherited': True, 'is_categorical': False, 'bad_values': '', 'nullable': 'true', '_id': '6649f766dc9eeaddb10dda3d', 'field': 'age', 'alias': 'age', 'type': 'real', 'position': '0'}, {'checked': True, 'inherited': True, 'is_categorical': False, 'bad_values': '', 'nullable': 'true', '_id': '6649f766dc9eeaddb10dda3e', 'field': 'anaemia', 'alias': 'anaemia', 'type': 'numeric', 'position': '1'}, {'checked': True, 'inherited': True, 'is_categorical': False, 'bad_values': '', 'nullable': 'true', '_id': '6649f766dc9eeaddb10dda3f', 'field': 'creatinine_phosphokinase', 'alias': 'creatinine_phosphokinase', 'type': 'numeric', 'position': '2'}, {'checked': True, 'inherited': True, 'is_categorical': False, 'bad_values': '', 'nullable': 'true', '_id': '6649f766dc9eeaddb10dda40', 'field': 'diabetes', 'alias': 'diabetes', 'type': 'numeric', 'position': '3'}, {'checked': True, 'inherited': True, 'is_categorical': False, 'bad_values': '', 'nullable': 'true', '_id': '6649f766dc9eeaddb10dda41', 'field': 'ejection_fraction', 'alias': 'ejection_fraction', 'type': 'numeric', 'position': '4'}, {'checked': True, 'inherited': True, 'is_categorical': False, 'bad_values': '', 'nullable': 'true', '_id': '6649f766dc9eeaddb10dda42', 'field': 'high_blood_pressure', 'alias': 'high_blood_pressure', 'type': 'numeric', 'position': '5'}, {'checked': True, 'inherited': True, 'is_categorical': False, 'bad_values': '', 'nullable': 'true', '_id': '6649f766dc9eeaddb10dda43', 'field': 'platelets', 'alias': 'platelets', 'type': 'real', 'position': '6'}, {'checked': True, 'inherited': True, 'is_categorical': False, 'bad_values': '', 'nullable': 'true', '_id': '6649f766dc9eeaddb10dda44', 'field': 'serum_creatinine', 'alias': 'serum_creatinine', 'type': 'real', 'position': '7'}, {'checked': True, 'inherited': True, 'is_categorical': False, 'bad_values': '', 'nullable': 'true', '_id': '6649f766dc9eeaddb10dda45', 'field': 'serum_sodium', 'alias': 'serum_sodium', 'type': 'numeric', 'position': '8'}, {'checked': True, 'inherited': True, 'is_categorical': False, 'bad_values': '', 'nullable': 'true', '_id': '6649f766dc9eeaddb10dda46', 'field': 'sex', 'alias': 'sex', 'type': 'numeric', 'position': '9'}, {'checked': True, 'inherited': True, 'is_categorical': False, 'bad_values': '', 'nullable': 'true', '_id': '6649f766dc9eeaddb10dda47', 'field': 'smoking', 'alias': 'smoking', 'type': 'numeric', 'position': '10'}, {'checked': True, 'inherited': True, 'is_categorical': False, 'bad_values': '', 'nullable': 'true', '_id': '6649f766dc9eeaddb10dda48', 'field': 'time', 'alias': 'time', 'type': 'numeric', 'position': '11'}, {'checked': True, 'inherited': True, 'is_categorical': False, 'bad_values': '', 'nullable': 'true', '_id': '6649f766dc9eeaddb10dda49', 'field': 'DEATH_EVENT', 'alias': 'DEATH_EVENT', 'type': 'numeric', 'position': '12'}], 'actual_schema': [{'checked': True, 'inherited': True, 'is_categorical': False, 'bad_values': '', 'nullable': 'true', '_id': '6649f766dc9eeaddb10dda30', 'field': 'age', 'alias': 'age', 'type': 'real', 'position': '0'}, {'checked': True, 'inherited': True, 'is_categorical': False, 'bad_values': '', 'nullable': 'true', '_id': '6649f766dc9eeaddb10dda31', 'field': 'anaemia', 'alias': 'anaemia', 'type': 'numeric', 'position': '1'}, {'checked': True, 'inherited': True, 'is_categorical': False, 'bad_values': '', 'nullable': 'true', '_id': '6649f766dc9eeaddb10dda32', 'field': 'creatinine_phosphokinase', 'alias': 'creatinine_phosphokinase', 'type': 'numeric', 'position': '2'}, {'checked': True, 'inherited': True, 'is_categorical': False, 'bad_values': '', 'nullable': 'true', '_id': '6649f766dc9eeaddb10dda33', 'field': 'diabetes', 'alias': 'diabetes', 'type': 'numeric', 'position': '3'}, {'checked': True, 'inherited': True, 'is_categorical': False, 'bad_values': '', 'nullable': 'true', '_id': '6649f766dc9eeaddb10dda34', 'field': 'ejection_fraction', 'alias': 'ejection_fraction', 'type': 'numeric', 'position': '4'}, {'checked': True, 'inherited': True, 'is_categorical': False, 'bad_values': '', 'nullable': 'true', '_id': '6649f766dc9eeaddb10dda35', 'field': 'high_blood_pressure', 'alias': 'high_blood_pressure', 'type': 'numeric', 'position': '5'}, {'checked': True, 'inherited': True, 'is_categorical': False, 'bad_values': '', 'nullable': 'true', '_id': '6649f766dc9eeaddb10dda36', 'field': 'platelets', 'alias': 'platelets', 'type': 'real', 'position': '6'}, {'checked': True, 'inherited': True, 'is_categorical': False, 'bad_values': '', 'nullable': 'true', '_id': '6649f766dc9eeaddb10dda37', 'field': 'serum_creatinine', 'alias': 'serum_creatinine', 'type': 'real', 'position': '7'}, {'checked': True, 'inherited': True, 'is_categorical': False, 'bad_values': '', 'nullable': 'true', '_id': '6649f766dc9eeaddb10dda38', 'field': 'serum_sodium', 'alias': 'serum_sodium', 'type': 'numeric', 'position': '8'}, {'checked': True, 'inherited': True, 'is_categorical': False, 'bad_values': '', 'nullable': 'true', '_id': '6649f766dc9eeaddb10dda39', 'field': 'sex', 'alias': 'sex', 'type': 'numeric', 'position': '9'}, {'checked': True, 'inherited': True, 'is_categorical': False, 'bad_values': '', 'nullable': 'true', '_id': '6649f766dc9eeaddb10dda3a', 'field': 'smoking', 'alias': 'smoking', 'type': 'numeric', 'position': '10'}, {'checked': True, 'inherited': True, 'is_categorical': False, 'bad_values': '', 'nullable': 'true', '_id': '6649f766dc9eeaddb10dda3b', 'field': 'time', 'alias': 'time', 'type': 'numeric', 'position': '11'}, {'checked': True, 'inherited': True, 'is_categorical': False, 'bad_values': '', 'nullable': 'true', '_id': '6649f766dc9eeaddb10dda3c', 'field': 'DEATH_EVENT', 'alias': 'DEATH_EVENT', 'type': 'numeric', 'position': '12'}], 'server': 'https://dnm.bfirst.ai:443', 'server_url': '/nexusMax/NexusMaxPlatform/uploads/platform/', 'delimiter': ',', 'file_type': 'Delimeted', 'filename': 'HF19MayAggOP.csv', 'token': '', 'domain': '', 'is_header': 'Use Header Line', 'url': '/FileStore/platform/uploadedSourceFiles/part-00000-eae75c8b-785c-40dc-ad16-9a5780033749-c000.csv', 'results_url': 'http://dnm.bfirst.ai:44040/api/read/hdfs'}\")\n",
    "\n",
    "except Exception as ex: \n",
    "\tlogging.error(ex)\n"
   ]
  }
 ],
 "metadata": {},
 "nbformat": 4,
 "nbformat_minor": 5
}
